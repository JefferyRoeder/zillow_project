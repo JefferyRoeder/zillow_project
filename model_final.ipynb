{
 "cells": [
  {
   "cell_type": "code",
   "execution_count": 1,
   "metadata": {},
   "outputs": [],
   "source": [
    "import pandas as pd\n",
    "import numpy as np\n",
    "import matplotlib.pyplot as plt\n",
    "import seaborn as sns\n",
    "from sklearn.model_selection import train_test_split\n",
    "from sklearn.preprocessing import StandardScaler, MinMaxScaler\n",
    "from sklearn.metrics import mean_squared_error, r2_score, explained_variance_score\n",
    "from math import sqrt\n",
    "import warnings\n",
    "warnings.filterwarnings(\"ignore\")\n",
    "\n",
    "import env\n",
    "import acquire\n",
    "import split_scale\n",
    "import features\n",
    "import prep\n",
    "import exploration\n",
    "import feature_selection"
   ]
  },
  {
   "cell_type": "markdown",
   "metadata": {},
   "source": [
    "## Acquire and summarize data"
   ]
  },
  {
   "cell_type": "code",
   "execution_count": 2,
   "metadata": {},
   "outputs": [],
   "source": [
    "#data for baseline model. Includes square feet, number of bedrooms and number of bathrooms.\n",
    "df = acquire.wrangle_zillow()"
   ]
  },
  {
   "cell_type": "markdown",
   "metadata": {},
   "source": [
    "#### Data for tax rate distribution"
   ]
  },
  {
   "cell_type": "code",
   "execution_count": 3,
   "metadata": {},
   "outputs": [],
   "source": [
    "df_tax = acquire.zillow_tax()"
   ]
  },
  {
   "cell_type": "markdown",
   "metadata": {},
   "source": [
    "## Data prep"
   ]
  },
  {
   "cell_type": "markdown",
   "metadata": {},
   "source": [
    "#### Clean up of df_tax and acquiring county names based on fips field\n",
    "from:https://www.nrcs.usda.gov/wps/portal/nrcs/detail/national/home/?cid=nrcs143_013697"
   ]
  },
  {
   "cell_type": "code",
   "execution_count": 4,
   "metadata": {},
   "outputs": [],
   "source": [
    "df_tax = prep.tax_data_clean(df_tax)"
   ]
  },
  {
   "cell_type": "markdown",
   "metadata": {},
   "source": [
    "#### Cleaning df data to only include selected features sqft, bedrooms, and bathrooms"
   ]
  },
  {
   "cell_type": "code",
   "execution_count": 5,
   "metadata": {},
   "outputs": [],
   "source": [
    "df = prep.df_clean(df)"
   ]
  },
  {
   "cell_type": "markdown",
   "metadata": {},
   "source": [
    "#### Basic statistical data for baseline model"
   ]
  },
  {
   "cell_type": "code",
   "execution_count": 6,
   "metadata": {
    "scrolled": true
   },
   "outputs": [
    {
     "data": {
      "text/html": [
       "<div>\n",
       "<style scoped>\n",
       "    .dataframe tbody tr th:only-of-type {\n",
       "        vertical-align: middle;\n",
       "    }\n",
       "\n",
       "    .dataframe tbody tr th {\n",
       "        vertical-align: top;\n",
       "    }\n",
       "\n",
       "    .dataframe thead th {\n",
       "        text-align: right;\n",
       "    }\n",
       "</style>\n",
       "<table border=\"1\" class=\"dataframe\">\n",
       "  <thead>\n",
       "    <tr style=\"text-align: right;\">\n",
       "      <th></th>\n",
       "      <th>bathrooms</th>\n",
       "      <th>bedrooms</th>\n",
       "      <th>sqft</th>\n",
       "      <th>tax_value</th>\n",
       "    </tr>\n",
       "  </thead>\n",
       "  <tbody>\n",
       "    <tr>\n",
       "      <th>count</th>\n",
       "      <td>15982.000000</td>\n",
       "      <td>15982.000000</td>\n",
       "      <td>15982.000000</td>\n",
       "      <td>1.598200e+04</td>\n",
       "    </tr>\n",
       "    <tr>\n",
       "      <th>mean</th>\n",
       "      <td>2.214992</td>\n",
       "      <td>3.252597</td>\n",
       "      <td>1836.581905</td>\n",
       "      <td>4.633691e+05</td>\n",
       "    </tr>\n",
       "    <tr>\n",
       "      <th>std</th>\n",
       "      <td>1.027066</td>\n",
       "      <td>0.950211</td>\n",
       "      <td>985.314844</td>\n",
       "      <td>6.435119e+05</td>\n",
       "    </tr>\n",
       "    <tr>\n",
       "      <th>min</th>\n",
       "      <td>1.000000</td>\n",
       "      <td>1.000000</td>\n",
       "      <td>320.000000</td>\n",
       "      <td>7.584000e+03</td>\n",
       "    </tr>\n",
       "    <tr>\n",
       "      <th>25%</th>\n",
       "      <td>2.000000</td>\n",
       "      <td>3.000000</td>\n",
       "      <td>1233.000000</td>\n",
       "      <td>1.817542e+05</td>\n",
       "    </tr>\n",
       "    <tr>\n",
       "      <th>50%</th>\n",
       "      <td>2.000000</td>\n",
       "      <td>3.000000</td>\n",
       "      <td>1592.000000</td>\n",
       "      <td>3.202605e+05</td>\n",
       "    </tr>\n",
       "    <tr>\n",
       "      <th>75%</th>\n",
       "      <td>3.000000</td>\n",
       "      <td>4.000000</td>\n",
       "      <td>2161.750000</td>\n",
       "      <td>5.287630e+05</td>\n",
       "    </tr>\n",
       "    <tr>\n",
       "      <th>max</th>\n",
       "      <td>20.000000</td>\n",
       "      <td>25.000000</td>\n",
       "      <td>26345.000000</td>\n",
       "      <td>1.912982e+07</td>\n",
       "    </tr>\n",
       "  </tbody>\n",
       "</table>\n",
       "</div>"
      ],
      "text/plain": [
       "          bathrooms      bedrooms          sqft     tax_value\n",
       "count  15982.000000  15982.000000  15982.000000  1.598200e+04\n",
       "mean       2.214992      3.252597   1836.581905  4.633691e+05\n",
       "std        1.027066      0.950211    985.314844  6.435119e+05\n",
       "min        1.000000      1.000000    320.000000  7.584000e+03\n",
       "25%        2.000000      3.000000   1233.000000  1.817542e+05\n",
       "50%        2.000000      3.000000   1592.000000  3.202605e+05\n",
       "75%        3.000000      4.000000   2161.750000  5.287630e+05\n",
       "max       20.000000     25.000000  26345.000000  1.912982e+07"
      ]
     },
     "execution_count": 6,
     "metadata": {},
     "output_type": "execute_result"
    }
   ],
   "source": [
    "df.describe()"
   ]
  },
  {
   "cell_type": "markdown",
   "metadata": {},
   "source": [
    "#### Data dictionary\n",
    "\n",
    "calculatedfinishedsquarefeet -  Used for sqft as it had the most consistent vales and fewest nulls. The few nulls that were left were excluded from the data as they were not significant enough in size to hurt our data.\n",
    "\n",
    "bedroomcnt - Used for bedrooms over other available fields as it was the most consistently available field without nulls or zeros.\n",
    "\n",
    "bathroomcnt - Used for bedrooms over other available fields as it was the most consistently available field without nulls or zeros.\n",
    "\n",
    "\n",
    "Additionally houses with zero bedroom or bathrooms were excluded as these were determined to be eroneous with our dataset of single family residenial homes. Null tax values were also excluded. The data lost with these exclusions was minimal."
   ]
  },
  {
   "cell_type": "markdown",
   "metadata": {},
   "source": [
    "#### Distribution plots of 3 chosen baseline features"
   ]
  },
  {
   "cell_type": "code",
   "execution_count": 7,
   "metadata": {},
   "outputs": [
    {
     "data": {
      "image/png": "[encoded data removed]",
      "text/plain": [
       "<Figure size 432x288 with 1 Axes>"
      ]
     },
     "metadata": {
      "needs_background": "light"
     },
     "output_type": "display_data"
    },
    {
     "data": {
      "image/png": "[encoded data removed]",
      "text/plain": [
       "<Figure size 432x288 with 1 Axes>"
      ]
     },
     "metadata": {
      "needs_background": "light"
     },
     "output_type": "display_data"
    },
    {
     "data": {
      "image/png": "[encoded data removed]",
      "text/plain": [
       "<Figure size 432x288 with 1 Axes>"
      ]
     },
     "metadata": {
      "needs_background": "light"
     },
     "output_type": "display_data"
    }
   ],
   "source": [
    "prep.distribution_plot(df)"
   ]
  },
  {
   "cell_type": "markdown",
   "metadata": {},
   "source": [
    "#### Outliers\n",
    "\n",
    "The plotted and statistical data showed that there are some extreme outliers in all three features. For this model I chose to keep all available data. In future models outliers will be handled after deeper analysis of the standard distribution\n",
    "\n",
    "#### Scaling\n",
    "\n",
    "The bedrooms and bathrooms are rough scaled equally. Square footage is in a significantly different unit of measure. To handle this we will be using standard scaling."
   ]
  },
  {
   "cell_type": "markdown",
   "metadata": {},
   "source": [
    "## Split and Scale\n",
    "\n",
    "Data was split using an 80/20 train/test split set to randomstate 123"
   ]
  },
  {
   "cell_type": "code",
   "execution_count": 8,
   "metadata": {},
   "outputs": [],
   "source": [
    "train,test,X_train,y_train,X_test,y_test,ols_model = split_scale.split_scale_df(df)"
   ]
  },
  {
   "cell_type": "markdown",
   "metadata": {},
   "source": [
    "## Data exploration"
   ]
  },
  {
   "cell_type": "markdown",
   "metadata": {},
   "source": [
    "#### Correlation Test\n",
    "\n",
    "From the correlation plot of our three features we see that square footage has the strongest correlation with tax value. Bathrooms is also a strong indicator; while bathrooms is a fairly weak indcator.\n",
    "\n",
    "Bathroom and bedroom are both strongly correlated with square feet. This is something that will be addressed in follow up modeling."
   ]
  },
  {
   "cell_type": "code",
   "execution_count": 9,
   "metadata": {},
   "outputs": [
    {
     "data": {
      "image/png": "[encoded data removed]",
      "text/plain": [
       "<Figure size 576x432 with 2 Axes>"
      ]
     },
     "metadata": {
      "needs_background": "light"
     },
     "output_type": "display_data"
    }
   ],
   "source": [
    "exploration.corr_plot(train)"
   ]
  },
  {
   "cell_type": "markdown",
   "metadata": {},
   "source": [
    "#### R-squared, T Test, P Test and other key statistical measures\n",
    "\n"
   ]
  },
  {
   "cell_type": "code",
   "execution_count": 10,
   "metadata": {},
   "outputs": [
    {
     "data": {
      "text/plain": [
       "(Ttest_indResult(statistic=array([-4.04342365e-15]), pvalue=array([1.])),\n",
       " <class 'statsmodels.iolib.summary.Summary'>\n",
       " \"\"\"\n",
       "                                  OLS Regression Results                                \n",
       " =======================================================================================\n",
       " Dep. Variable:              tax_value   R-squared (uncentered):                   0.445\n",
       " Model:                            OLS   Adj. R-squared (uncentered):              0.445\n",
       " Method:                 Least Squares   F-statistic:                              3412.\n",
       " Date:                Mon, 21 Oct 2019   Prob (F-statistic):                        0.00\n",
       " Time:                        00:09:47   Log-Likelihood:                         -14381.\n",
       " No. Observations:               12785   AIC:                                  2.877e+04\n",
       " Df Residuals:                   12782   BIC:                                  2.879e+04\n",
       " Df Model:                           3                                                  \n",
       " Covariance Type:            nonrobust                                                  \n",
       " ==============================================================================\n",
       "                  coef    std err          t      P>|t|      [0.025      0.975]\n",
       " ------------------------------------------------------------------------------\n",
       " bathrooms      0.0971      0.013      7.417      0.000       0.071       0.123\n",
       " bedrooms      -0.2148      0.009    -24.153      0.000      -0.232      -0.197\n",
       " sqft           0.6991      0.013     55.682      0.000       0.675       0.724\n",
       " ==============================================================================\n",
       " Omnibus:                    18764.106   Durbin-Watson:                   1.978\n",
       " Prob(Omnibus):                  0.000   Jarque-Bera (JB):         17700517.454\n",
       " Skew:                           8.548   Prob(JB):                         0.00\n",
       " Kurtosis:                     184.480   Cond. No.                         4.01\n",
       " ==============================================================================\n",
       " \n",
       " Warnings:\n",
       " [1] Standard Errors assume that the covariance matrix of the errors is correctly specified.\n",
       " \"\"\")"
      ]
     },
     "execution_count": 10,
     "metadata": {},
     "output_type": "execute_result"
    }
   ],
   "source": [
    "exploration.stats_test(y_train,X_train)"
   ]
  },
  {
   "cell_type": "markdown",
   "metadata": {},
   "source": [
    "## Feature Engineering\n",
    "\n",
    "After seeing the high correlation between bedrooms/bathrooms and square feet I decided to use the LassoCV embedded method to to score my three features for additional insight. Square feet came back as the strongest feature."
   ]
  },
  {
   "cell_type": "code",
   "execution_count": 11,
   "metadata": {},
   "outputs": [
    {
     "data": {
      "text/plain": [
       "sqft         0.698312\n",
       "bathrooms    0.095797\n",
       "bedrooms    -0.212783\n",
       "dtype: float64"
      ]
     },
     "execution_count": 11,
     "metadata": {},
     "output_type": "execute_result"
    }
   ],
   "source": [
    "feature_selection.coef_lasso(y_train,X_train)"
   ]
  },
  {
   "cell_type": "markdown",
   "metadata": {},
   "source": [
    "For the initial model we will keep all three features. This gives us a current r2 value of .44"
   ]
  },
  {
   "cell_type": "code",
   "execution_count": 12,
   "metadata": {},
   "outputs": [
    {
     "data": {
      "text/plain": [
       "0.4447042156038722"
      ]
     },
     "execution_count": 12,
     "metadata": {},
     "output_type": "execute_result"
    }
   ],
   "source": [
    "feature_selection.r2d2(y_train,train.yhat)"
   ]
  },
  {
   "cell_type": "markdown",
   "metadata": {},
   "source": [
    "## Modeling\n",
    "\n",
    "After deciding to keep all three features for the initial MVP the residuals, SSE, RMSE, and MSE were all calculated"
   ]
  }
 ],
 "metadata": {
  "kernelspec": {
   "display_name": "Python 3",
   "language": "python",
   "name": "python3"
  },
  "language_info": {
   "codemirror_mode": {
    "name": "ipython",
    "version": 3
   },
   "file_extension": ".py",
   "mimetype": "text/x-python",
   "name": "python",
   "nbconvert_exporter": "python",
   "pygments_lexer": "ipython3",
   "version": "3.7.3"
  }
 },
 "nbformat": 4,
 "nbformat_minor": 2
}
