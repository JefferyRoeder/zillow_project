{
 "cells": [
  {
   "cell_type": "code",
   "execution_count": 1,
   "metadata": {},
   "outputs": [],
   "source": [
    "import pandas as pd\n",
    "import numpy as np\n",
    "import matplotlib.pyplot as plt\n",
    "import seaborn as sns\n",
    "from sklearn.model_selection import train_test_split\n",
    "from sklearn.preprocessing import StandardScaler, MinMaxScaler\n",
    "from sklearn.metrics import mean_squared_error, r2_score, explained_variance_score\n",
    "from math import sqrt\n",
    "import warnings\n",
    "warnings.filterwarnings(\"ignore\")\n",
    "\n",
    "import env\n",
    "import acquire\n",
    "import split_scale\n",
    "import features"
   ]
  },
  {
   "cell_type": "markdown",
   "metadata": {},
   "source": [
    "#### Acquire and summarize data"
   ]
  },
  {
   "cell_type": "code",
   "execution_count": 2,
   "metadata": {},
   "outputs": [],
   "source": [
    "#data for baseline model\n",
    "df = acquire.wrangle_zillow()"
   ]
  },
  {
   "cell_type": "code",
   "execution_count": 3,
   "metadata": {},
   "outputs": [],
   "source": [
    "#data for tax rate distribution\n",
    "df_tax = acquire.zillow_tax()"
   ]
  },
  {
   "cell_type": "code",
   "execution_count": 4,
   "metadata": {},
   "outputs": [
    {
     "data": {
      "text/plain": [
       "6037.0"
      ]
     },
     "execution_count": 4,
     "metadata": {},
     "output_type": "execute_result"
    }
   ],
   "source": [
    "df_tax.head(1)\n",
    "df_tax['county']=df_tax['fips']\n",
    "df_tax.county.min()"
   ]
  },
  {
   "cell_type": "code",
   "execution_count": 5,
   "metadata": {},
   "outputs": [],
   "source": [
    "#acquiring county names based on fips field\n",
    "#from: https://www.nrcs.usda.gov/wps/portal/nrcs/detail/national/home/?cid=nrcs143_013697\n",
    "df_tax['county'] = np.where(df_tax['fips']== 6037,'Los Angles',(np.where(df_tax['fips']== 6059,'Orange',(np.where(df_tax['fips']==6111,'Ventura',\"\")))))"
   ]
  },
  {
   "cell_type": "code",
   "execution_count": 6,
   "metadata": {},
   "outputs": [
    {
     "data": {
      "text/html": [
       "<div>\n",
       "<style scoped>\n",
       "    .dataframe tbody tr th:only-of-type {\n",
       "        vertical-align: middle;\n",
       "    }\n",
       "\n",
       "    .dataframe tbody tr th {\n",
       "        vertical-align: top;\n",
       "    }\n",
       "\n",
       "    .dataframe thead th {\n",
       "        text-align: right;\n",
       "    }\n",
       "</style>\n",
       "<table border=\"1\" class=\"dataframe\">\n",
       "  <thead>\n",
       "    <tr style=\"text-align: right;\">\n",
       "      <th></th>\n",
       "      <th>tax_value</th>\n",
       "      <th>fips</th>\n",
       "      <th>taxamount</th>\n",
       "      <th>tax_rate</th>\n",
       "      <th>county</th>\n",
       "    </tr>\n",
       "  </thead>\n",
       "  <tbody>\n",
       "    <tr>\n",
       "      <th>0</th>\n",
       "      <td>498347.0</td>\n",
       "      <td>6037.0</td>\n",
       "      <td>6089.82</td>\n",
       "      <td>0.0122</td>\n",
       "      <td>Los Angles</td>\n",
       "    </tr>\n",
       "    <tr>\n",
       "      <th>1</th>\n",
       "      <td>549917.0</td>\n",
       "      <td>6037.0</td>\n",
       "      <td>6679.55</td>\n",
       "      <td>0.0121</td>\n",
       "      <td>Los Angles</td>\n",
       "    </tr>\n",
       "  </tbody>\n",
       "</table>\n",
       "</div>"
      ],
      "text/plain": [
       "   tax_value    fips  taxamount  tax_rate      county\n",
       "0   498347.0  6037.0    6089.82    0.0122  Los Angles\n",
       "1   549917.0  6037.0    6679.55    0.0121  Los Angles"
      ]
     },
     "execution_count": 6,
     "metadata": {},
     "output_type": "execute_result"
    }
   ],
   "source": [
    "df_tax.head(2)"
   ]
  },
  {
   "cell_type": "code",
   "execution_count": 7,
   "metadata": {},
   "outputs": [
    {
     "data": {
      "text/html": [
       "<div>\n",
       "<style scoped>\n",
       "    .dataframe tbody tr th:only-of-type {\n",
       "        vertical-align: middle;\n",
       "    }\n",
       "\n",
       "    .dataframe tbody tr th {\n",
       "        vertical-align: top;\n",
       "    }\n",
       "\n",
       "    .dataframe thead th {\n",
       "        text-align: right;\n",
       "    }\n",
       "</style>\n",
       "<table border=\"1\" class=\"dataframe\">\n",
       "  <thead>\n",
       "    <tr style=\"text-align: right;\">\n",
       "      <th></th>\n",
       "      <th>tax_value</th>\n",
       "      <th>fips</th>\n",
       "      <th>taxamount</th>\n",
       "      <th>tax_rate</th>\n",
       "    </tr>\n",
       "  </thead>\n",
       "  <tbody>\n",
       "    <tr>\n",
       "      <th>count</th>\n",
       "      <td>1.595600e+04</td>\n",
       "      <td>15956.000000</td>\n",
       "      <td>15956.000000</td>\n",
       "      <td>15956.000000</td>\n",
       "    </tr>\n",
       "    <tr>\n",
       "      <th>mean</th>\n",
       "      <td>4.634078e+05</td>\n",
       "      <td>6044.487591</td>\n",
       "      <td>5681.839846</td>\n",
       "      <td>0.013342</td>\n",
       "    </tr>\n",
       "    <tr>\n",
       "      <th>std</th>\n",
       "      <td>6.434229e+05</td>\n",
       "      <td>17.283469</td>\n",
       "      <td>7466.645847</td>\n",
       "      <td>0.003730</td>\n",
       "    </tr>\n",
       "    <tr>\n",
       "      <th>min</th>\n",
       "      <td>1.216800e+04</td>\n",
       "      <td>6037.000000</td>\n",
       "      <td>49.180000</td>\n",
       "      <td>0.000000</td>\n",
       "    </tr>\n",
       "    <tr>\n",
       "      <th>25%</th>\n",
       "      <td>1.820338e+05</td>\n",
       "      <td>6037.000000</td>\n",
       "      <td>2496.027500</td>\n",
       "      <td>0.011900</td>\n",
       "    </tr>\n",
       "    <tr>\n",
       "      <th>50%</th>\n",
       "      <td>3.205150e+05</td>\n",
       "      <td>6037.000000</td>\n",
       "      <td>4065.150000</td>\n",
       "      <td>0.012500</td>\n",
       "    </tr>\n",
       "    <tr>\n",
       "      <th>75%</th>\n",
       "      <td>5.286050e+05</td>\n",
       "      <td>6037.000000</td>\n",
       "      <td>6409.490000</td>\n",
       "      <td>0.013700</td>\n",
       "    </tr>\n",
       "    <tr>\n",
       "      <th>max</th>\n",
       "      <td>1.912982e+07</td>\n",
       "      <td>6111.000000</td>\n",
       "      <td>228999.210000</td>\n",
       "      <td>0.155100</td>\n",
       "    </tr>\n",
       "  </tbody>\n",
       "</table>\n",
       "</div>"
      ],
      "text/plain": [
       "          tax_value          fips      taxamount      tax_rate\n",
       "count  1.595600e+04  15956.000000   15956.000000  15956.000000\n",
       "mean   4.634078e+05   6044.487591    5681.839846      0.013342\n",
       "std    6.434229e+05     17.283469    7466.645847      0.003730\n",
       "min    1.216800e+04   6037.000000      49.180000      0.000000\n",
       "25%    1.820338e+05   6037.000000    2496.027500      0.011900\n",
       "50%    3.205150e+05   6037.000000    4065.150000      0.012500\n",
       "75%    5.286050e+05   6037.000000    6409.490000      0.013700\n",
       "max    1.912982e+07   6111.000000  228999.210000      0.155100"
      ]
     },
     "execution_count": 7,
     "metadata": {},
     "output_type": "execute_result"
    }
   ],
   "source": [
    "df_tax.describe()"
   ]
  },
  {
   "cell_type": "markdown",
   "metadata": {},
   "source": [
    "#### Tax distribution"
   ]
  },
  {
   "cell_type": "code",
   "execution_count": 8,
   "metadata": {},
   "outputs": [
    {
     "data": {
      "image/png": "[encoded data removed]",
      "text/plain": [
       "<Figure size 648x216 with 3 Axes>"
      ]
     },
     "metadata": {
      "needs_background": "light"
     },
     "output_type": "display_data"
    }
   ],
   "source": [
    "#Tax distribution by county.\n",
    "\n",
    "from matplotlib import pyplot as plt\n",
    "\n",
    "g = sns.FacetGrid(df_tax, col = \"county\")\n",
    "g.map(plt.hist, \"tax_rate\")\n",
    "plt.xlim(0,.1)\n",
    "plt.xticks(np.arange(0, .07, step=0.01))\n",
    "\n",
    "plt.show()"
   ]
  },
  {
   "cell_type": "code",
   "execution_count": 9,
   "metadata": {
    "scrolled": true
   },
   "outputs": [
    {
     "data": {
      "text/html": [
       "<div>\n",
       "<style scoped>\n",
       "    .dataframe tbody tr th:only-of-type {\n",
       "        vertical-align: middle;\n",
       "    }\n",
       "\n",
       "    .dataframe tbody tr th {\n",
       "        vertical-align: top;\n",
       "    }\n",
       "\n",
       "    .dataframe thead th {\n",
       "        text-align: right;\n",
       "    }\n",
       "</style>\n",
       "<table border=\"1\" class=\"dataframe\">\n",
       "  <thead>\n",
       "    <tr style=\"text-align: right;\">\n",
       "      <th></th>\n",
       "      <th>county</th>\n",
       "      <th>tax_rate</th>\n",
       "      <th>tax_value</th>\n",
       "      <th>fips</th>\n",
       "      <th>taxamount</th>\n",
       "    </tr>\n",
       "  </thead>\n",
       "  <tbody>\n",
       "    <tr>\n",
       "      <th>0</th>\n",
       "      <td>Los Angles</td>\n",
       "      <td>0.0003</td>\n",
       "      <td>1</td>\n",
       "      <td>1</td>\n",
       "      <td>1</td>\n",
       "    </tr>\n",
       "    <tr>\n",
       "      <th>1</th>\n",
       "      <td>Los Angles</td>\n",
       "      <td>0.0004</td>\n",
       "      <td>1</td>\n",
       "      <td>1</td>\n",
       "      <td>1</td>\n",
       "    </tr>\n",
       "    <tr>\n",
       "      <th>2</th>\n",
       "      <td>Los Angles</td>\n",
       "      <td>0.0018</td>\n",
       "      <td>1</td>\n",
       "      <td>1</td>\n",
       "      <td>1</td>\n",
       "    </tr>\n",
       "    <tr>\n",
       "      <th>3</th>\n",
       "      <td>Los Angles</td>\n",
       "      <td>0.0020</td>\n",
       "      <td>1</td>\n",
       "      <td>1</td>\n",
       "      <td>1</td>\n",
       "    </tr>\n",
       "    <tr>\n",
       "      <th>4</th>\n",
       "      <td>Los Angles</td>\n",
       "      <td>0.0023</td>\n",
       "      <td>1</td>\n",
       "      <td>1</td>\n",
       "      <td>1</td>\n",
       "    </tr>\n",
       "    <tr>\n",
       "      <th>5</th>\n",
       "      <td>Los Angles</td>\n",
       "      <td>0.0032</td>\n",
       "      <td>1</td>\n",
       "      <td>1</td>\n",
       "      <td>1</td>\n",
       "    </tr>\n",
       "    <tr>\n",
       "      <th>6</th>\n",
       "      <td>Los Angles</td>\n",
       "      <td>0.0036</td>\n",
       "      <td>1</td>\n",
       "      <td>1</td>\n",
       "      <td>1</td>\n",
       "    </tr>\n",
       "    <tr>\n",
       "      <th>7</th>\n",
       "      <td>Los Angles</td>\n",
       "      <td>0.0042</td>\n",
       "      <td>1</td>\n",
       "      <td>1</td>\n",
       "      <td>1</td>\n",
       "    </tr>\n",
       "    <tr>\n",
       "      <th>8</th>\n",
       "      <td>Los Angles</td>\n",
       "      <td>0.0050</td>\n",
       "      <td>1</td>\n",
       "      <td>1</td>\n",
       "      <td>1</td>\n",
       "    </tr>\n",
       "    <tr>\n",
       "      <th>9</th>\n",
       "      <td>Los Angles</td>\n",
       "      <td>0.0056</td>\n",
       "      <td>1</td>\n",
       "      <td>1</td>\n",
       "      <td>1</td>\n",
       "    </tr>\n",
       "    <tr>\n",
       "      <th>10</th>\n",
       "      <td>Los Angles</td>\n",
       "      <td>0.0058</td>\n",
       "      <td>1</td>\n",
       "      <td>1</td>\n",
       "      <td>1</td>\n",
       "    </tr>\n",
       "    <tr>\n",
       "      <th>11</th>\n",
       "      <td>Los Angles</td>\n",
       "      <td>0.0060</td>\n",
       "      <td>1</td>\n",
       "      <td>1</td>\n",
       "      <td>1</td>\n",
       "    </tr>\n",
       "    <tr>\n",
       "      <th>12</th>\n",
       "      <td>Los Angles</td>\n",
       "      <td>0.0067</td>\n",
       "      <td>1</td>\n",
       "      <td>1</td>\n",
       "      <td>1</td>\n",
       "    </tr>\n",
       "    <tr>\n",
       "      <th>13</th>\n",
       "      <td>Los Angles</td>\n",
       "      <td>0.0069</td>\n",
       "      <td>1</td>\n",
       "      <td>1</td>\n",
       "      <td>1</td>\n",
       "    </tr>\n",
       "    <tr>\n",
       "      <th>14</th>\n",
       "      <td>Los Angles</td>\n",
       "      <td>0.0070</td>\n",
       "      <td>1</td>\n",
       "      <td>1</td>\n",
       "      <td>1</td>\n",
       "    </tr>\n",
       "    <tr>\n",
       "      <th>15</th>\n",
       "      <td>Los Angles</td>\n",
       "      <td>0.0072</td>\n",
       "      <td>1</td>\n",
       "      <td>1</td>\n",
       "      <td>1</td>\n",
       "    </tr>\n",
       "    <tr>\n",
       "      <th>16</th>\n",
       "      <td>Los Angles</td>\n",
       "      <td>0.0073</td>\n",
       "      <td>1</td>\n",
       "      <td>1</td>\n",
       "      <td>1</td>\n",
       "    </tr>\n",
       "    <tr>\n",
       "      <th>17</th>\n",
       "      <td>Los Angles</td>\n",
       "      <td>0.0075</td>\n",
       "      <td>3</td>\n",
       "      <td>3</td>\n",
       "      <td>3</td>\n",
       "    </tr>\n",
       "    <tr>\n",
       "      <th>18</th>\n",
       "      <td>Los Angles</td>\n",
       "      <td>0.0081</td>\n",
       "      <td>1</td>\n",
       "      <td>1</td>\n",
       "      <td>1</td>\n",
       "    </tr>\n",
       "    <tr>\n",
       "      <th>19</th>\n",
       "      <td>Los Angles</td>\n",
       "      <td>0.0082</td>\n",
       "      <td>1</td>\n",
       "      <td>1</td>\n",
       "      <td>1</td>\n",
       "    </tr>\n",
       "    <tr>\n",
       "      <th>20</th>\n",
       "      <td>Los Angles</td>\n",
       "      <td>0.0083</td>\n",
       "      <td>2</td>\n",
       "      <td>2</td>\n",
       "      <td>2</td>\n",
       "    </tr>\n",
       "    <tr>\n",
       "      <th>21</th>\n",
       "      <td>Los Angles</td>\n",
       "      <td>0.0084</td>\n",
       "      <td>1</td>\n",
       "      <td>1</td>\n",
       "      <td>1</td>\n",
       "    </tr>\n",
       "    <tr>\n",
       "      <th>22</th>\n",
       "      <td>Los Angles</td>\n",
       "      <td>0.0086</td>\n",
       "      <td>1</td>\n",
       "      <td>1</td>\n",
       "      <td>1</td>\n",
       "    </tr>\n",
       "    <tr>\n",
       "      <th>23</th>\n",
       "      <td>Los Angles</td>\n",
       "      <td>0.0087</td>\n",
       "      <td>2</td>\n",
       "      <td>2</td>\n",
       "      <td>2</td>\n",
       "    </tr>\n",
       "    <tr>\n",
       "      <th>24</th>\n",
       "      <td>Los Angles</td>\n",
       "      <td>0.0090</td>\n",
       "      <td>2</td>\n",
       "      <td>2</td>\n",
       "      <td>2</td>\n",
       "    </tr>\n",
       "    <tr>\n",
       "      <th>25</th>\n",
       "      <td>Los Angles</td>\n",
       "      <td>0.0092</td>\n",
       "      <td>1</td>\n",
       "      <td>1</td>\n",
       "      <td>1</td>\n",
       "    </tr>\n",
       "    <tr>\n",
       "      <th>26</th>\n",
       "      <td>Los Angles</td>\n",
       "      <td>0.0095</td>\n",
       "      <td>1</td>\n",
       "      <td>1</td>\n",
       "      <td>1</td>\n",
       "    </tr>\n",
       "    <tr>\n",
       "      <th>27</th>\n",
       "      <td>Los Angles</td>\n",
       "      <td>0.0097</td>\n",
       "      <td>1</td>\n",
       "      <td>1</td>\n",
       "      <td>1</td>\n",
       "    </tr>\n",
       "    <tr>\n",
       "      <th>28</th>\n",
       "      <td>Los Angles</td>\n",
       "      <td>0.0102</td>\n",
       "      <td>1</td>\n",
       "      <td>1</td>\n",
       "      <td>1</td>\n",
       "    </tr>\n",
       "    <tr>\n",
       "      <th>29</th>\n",
       "      <td>Los Angles</td>\n",
       "      <td>0.0103</td>\n",
       "      <td>1</td>\n",
       "      <td>1</td>\n",
       "      <td>1</td>\n",
       "    </tr>\n",
       "    <tr>\n",
       "      <th>...</th>\n",
       "      <td>...</td>\n",
       "      <td>...</td>\n",
       "      <td>...</td>\n",
       "      <td>...</td>\n",
       "      <td>...</td>\n",
       "    </tr>\n",
       "    <tr>\n",
       "      <th>452</th>\n",
       "      <td>Ventura</td>\n",
       "      <td>0.0134</td>\n",
       "      <td>1</td>\n",
       "      <td>1</td>\n",
       "      <td>1</td>\n",
       "    </tr>\n",
       "    <tr>\n",
       "      <th>453</th>\n",
       "      <td>Ventura</td>\n",
       "      <td>0.0135</td>\n",
       "      <td>4</td>\n",
       "      <td>4</td>\n",
       "      <td>4</td>\n",
       "    </tr>\n",
       "    <tr>\n",
       "      <th>454</th>\n",
       "      <td>Ventura</td>\n",
       "      <td>0.0136</td>\n",
       "      <td>3</td>\n",
       "      <td>3</td>\n",
       "      <td>3</td>\n",
       "    </tr>\n",
       "    <tr>\n",
       "      <th>455</th>\n",
       "      <td>Ventura</td>\n",
       "      <td>0.0137</td>\n",
       "      <td>2</td>\n",
       "      <td>2</td>\n",
       "      <td>2</td>\n",
       "    </tr>\n",
       "    <tr>\n",
       "      <th>456</th>\n",
       "      <td>Ventura</td>\n",
       "      <td>0.0138</td>\n",
       "      <td>1</td>\n",
       "      <td>1</td>\n",
       "      <td>1</td>\n",
       "    </tr>\n",
       "    <tr>\n",
       "      <th>457</th>\n",
       "      <td>Ventura</td>\n",
       "      <td>0.0140</td>\n",
       "      <td>1</td>\n",
       "      <td>1</td>\n",
       "      <td>1</td>\n",
       "    </tr>\n",
       "    <tr>\n",
       "      <th>458</th>\n",
       "      <td>Ventura</td>\n",
       "      <td>0.0141</td>\n",
       "      <td>1</td>\n",
       "      <td>1</td>\n",
       "      <td>1</td>\n",
       "    </tr>\n",
       "    <tr>\n",
       "      <th>459</th>\n",
       "      <td>Ventura</td>\n",
       "      <td>0.0142</td>\n",
       "      <td>1</td>\n",
       "      <td>1</td>\n",
       "      <td>1</td>\n",
       "    </tr>\n",
       "    <tr>\n",
       "      <th>460</th>\n",
       "      <td>Ventura</td>\n",
       "      <td>0.0143</td>\n",
       "      <td>2</td>\n",
       "      <td>2</td>\n",
       "      <td>2</td>\n",
       "    </tr>\n",
       "    <tr>\n",
       "      <th>461</th>\n",
       "      <td>Ventura</td>\n",
       "      <td>0.0144</td>\n",
       "      <td>1</td>\n",
       "      <td>1</td>\n",
       "      <td>1</td>\n",
       "    </tr>\n",
       "    <tr>\n",
       "      <th>462</th>\n",
       "      <td>Ventura</td>\n",
       "      <td>0.0146</td>\n",
       "      <td>1</td>\n",
       "      <td>1</td>\n",
       "      <td>1</td>\n",
       "    </tr>\n",
       "    <tr>\n",
       "      <th>463</th>\n",
       "      <td>Ventura</td>\n",
       "      <td>0.0151</td>\n",
       "      <td>1</td>\n",
       "      <td>1</td>\n",
       "      <td>1</td>\n",
       "    </tr>\n",
       "    <tr>\n",
       "      <th>464</th>\n",
       "      <td>Ventura</td>\n",
       "      <td>0.0153</td>\n",
       "      <td>1</td>\n",
       "      <td>1</td>\n",
       "      <td>1</td>\n",
       "    </tr>\n",
       "    <tr>\n",
       "      <th>465</th>\n",
       "      <td>Ventura</td>\n",
       "      <td>0.0154</td>\n",
       "      <td>1</td>\n",
       "      <td>1</td>\n",
       "      <td>1</td>\n",
       "    </tr>\n",
       "    <tr>\n",
       "      <th>466</th>\n",
       "      <td>Ventura</td>\n",
       "      <td>0.0156</td>\n",
       "      <td>2</td>\n",
       "      <td>2</td>\n",
       "      <td>2</td>\n",
       "    </tr>\n",
       "    <tr>\n",
       "      <th>467</th>\n",
       "      <td>Ventura</td>\n",
       "      <td>0.0159</td>\n",
       "      <td>1</td>\n",
       "      <td>1</td>\n",
       "      <td>1</td>\n",
       "    </tr>\n",
       "    <tr>\n",
       "      <th>468</th>\n",
       "      <td>Ventura</td>\n",
       "      <td>0.0162</td>\n",
       "      <td>1</td>\n",
       "      <td>1</td>\n",
       "      <td>1</td>\n",
       "    </tr>\n",
       "    <tr>\n",
       "      <th>469</th>\n",
       "      <td>Ventura</td>\n",
       "      <td>0.0168</td>\n",
       "      <td>2</td>\n",
       "      <td>2</td>\n",
       "      <td>2</td>\n",
       "    </tr>\n",
       "    <tr>\n",
       "      <th>470</th>\n",
       "      <td>Ventura</td>\n",
       "      <td>0.0172</td>\n",
       "      <td>1</td>\n",
       "      <td>1</td>\n",
       "      <td>1</td>\n",
       "    </tr>\n",
       "    <tr>\n",
       "      <th>471</th>\n",
       "      <td>Ventura</td>\n",
       "      <td>0.0175</td>\n",
       "      <td>3</td>\n",
       "      <td>3</td>\n",
       "      <td>3</td>\n",
       "    </tr>\n",
       "    <tr>\n",
       "      <th>472</th>\n",
       "      <td>Ventura</td>\n",
       "      <td>0.0177</td>\n",
       "      <td>1</td>\n",
       "      <td>1</td>\n",
       "      <td>1</td>\n",
       "    </tr>\n",
       "    <tr>\n",
       "      <th>473</th>\n",
       "      <td>Ventura</td>\n",
       "      <td>0.0180</td>\n",
       "      <td>1</td>\n",
       "      <td>1</td>\n",
       "      <td>1</td>\n",
       "    </tr>\n",
       "    <tr>\n",
       "      <th>474</th>\n",
       "      <td>Ventura</td>\n",
       "      <td>0.0185</td>\n",
       "      <td>1</td>\n",
       "      <td>1</td>\n",
       "      <td>1</td>\n",
       "    </tr>\n",
       "    <tr>\n",
       "      <th>475</th>\n",
       "      <td>Ventura</td>\n",
       "      <td>0.0189</td>\n",
       "      <td>1</td>\n",
       "      <td>1</td>\n",
       "      <td>1</td>\n",
       "    </tr>\n",
       "    <tr>\n",
       "      <th>476</th>\n",
       "      <td>Ventura</td>\n",
       "      <td>0.0197</td>\n",
       "      <td>1</td>\n",
       "      <td>1</td>\n",
       "      <td>1</td>\n",
       "    </tr>\n",
       "    <tr>\n",
       "      <th>477</th>\n",
       "      <td>Ventura</td>\n",
       "      <td>0.0212</td>\n",
       "      <td>1</td>\n",
       "      <td>1</td>\n",
       "      <td>1</td>\n",
       "    </tr>\n",
       "    <tr>\n",
       "      <th>478</th>\n",
       "      <td>Ventura</td>\n",
       "      <td>0.0215</td>\n",
       "      <td>1</td>\n",
       "      <td>1</td>\n",
       "      <td>1</td>\n",
       "    </tr>\n",
       "    <tr>\n",
       "      <th>479</th>\n",
       "      <td>Ventura</td>\n",
       "      <td>0.0217</td>\n",
       "      <td>1</td>\n",
       "      <td>1</td>\n",
       "      <td>1</td>\n",
       "    </tr>\n",
       "    <tr>\n",
       "      <th>480</th>\n",
       "      <td>Ventura</td>\n",
       "      <td>0.0313</td>\n",
       "      <td>1</td>\n",
       "      <td>1</td>\n",
       "      <td>1</td>\n",
       "    </tr>\n",
       "    <tr>\n",
       "      <th>481</th>\n",
       "      <td>Ventura</td>\n",
       "      <td>0.0336</td>\n",
       "      <td>1</td>\n",
       "      <td>1</td>\n",
       "      <td>1</td>\n",
       "    </tr>\n",
       "  </tbody>\n",
       "</table>\n",
       "<p>482 rows × 5 columns</p>\n",
       "</div>"
      ],
      "text/plain": [
       "         county  tax_rate  tax_value  fips  taxamount\n",
       "0    Los Angles    0.0003          1     1          1\n",
       "1    Los Angles    0.0004          1     1          1\n",
       "2    Los Angles    0.0018          1     1          1\n",
       "3    Los Angles    0.0020          1     1          1\n",
       "4    Los Angles    0.0023          1     1          1\n",
       "5    Los Angles    0.0032          1     1          1\n",
       "6    Los Angles    0.0036          1     1          1\n",
       "7    Los Angles    0.0042          1     1          1\n",
       "8    Los Angles    0.0050          1     1          1\n",
       "9    Los Angles    0.0056          1     1          1\n",
       "10   Los Angles    0.0058          1     1          1\n",
       "11   Los Angles    0.0060          1     1          1\n",
       "12   Los Angles    0.0067          1     1          1\n",
       "13   Los Angles    0.0069          1     1          1\n",
       "14   Los Angles    0.0070          1     1          1\n",
       "15   Los Angles    0.0072          1     1          1\n",
       "16   Los Angles    0.0073          1     1          1\n",
       "17   Los Angles    0.0075          3     3          3\n",
       "18   Los Angles    0.0081          1     1          1\n",
       "19   Los Angles    0.0082          1     1          1\n",
       "20   Los Angles    0.0083          2     2          2\n",
       "21   Los Angles    0.0084          1     1          1\n",
       "22   Los Angles    0.0086          1     1          1\n",
       "23   Los Angles    0.0087          2     2          2\n",
       "24   Los Angles    0.0090          2     2          2\n",
       "25   Los Angles    0.0092          1     1          1\n",
       "26   Los Angles    0.0095          1     1          1\n",
       "27   Los Angles    0.0097          1     1          1\n",
       "28   Los Angles    0.0102          1     1          1\n",
       "29   Los Angles    0.0103          1     1          1\n",
       "..          ...       ...        ...   ...        ...\n",
       "452     Ventura    0.0134          1     1          1\n",
       "453     Ventura    0.0135          4     4          4\n",
       "454     Ventura    0.0136          3     3          3\n",
       "455     Ventura    0.0137          2     2          2\n",
       "456     Ventura    0.0138          1     1          1\n",
       "457     Ventura    0.0140          1     1          1\n",
       "458     Ventura    0.0141          1     1          1\n",
       "459     Ventura    0.0142          1     1          1\n",
       "460     Ventura    0.0143          2     2          2\n",
       "461     Ventura    0.0144          1     1          1\n",
       "462     Ventura    0.0146          1     1          1\n",
       "463     Ventura    0.0151          1     1          1\n",
       "464     Ventura    0.0153          1     1          1\n",
       "465     Ventura    0.0154          1     1          1\n",
       "466     Ventura    0.0156          2     2          2\n",
       "467     Ventura    0.0159          1     1          1\n",
       "468     Ventura    0.0162          1     1          1\n",
       "469     Ventura    0.0168          2     2          2\n",
       "470     Ventura    0.0172          1     1          1\n",
       "471     Ventura    0.0175          3     3          3\n",
       "472     Ventura    0.0177          1     1          1\n",
       "473     Ventura    0.0180          1     1          1\n",
       "474     Ventura    0.0185          1     1          1\n",
       "475     Ventura    0.0189          1     1          1\n",
       "476     Ventura    0.0197          1     1          1\n",
       "477     Ventura    0.0212          1     1          1\n",
       "478     Ventura    0.0215          1     1          1\n",
       "479     Ventura    0.0217          1     1          1\n",
       "480     Ventura    0.0313          1     1          1\n",
       "481     Ventura    0.0336          1     1          1\n",
       "\n",
       "[482 rows x 5 columns]"
      ]
     },
     "execution_count": 9,
     "metadata": {},
     "output_type": "execute_result"
    }
   ],
   "source": [
    "df_tax.groupby(['county','tax_rate'],as_index=False).count()"
   ]
  },
  {
   "cell_type": "code",
   "execution_count": 10,
   "metadata": {},
   "outputs": [
    {
     "data": {
      "text/html": [
       "<div>\n",
       "<style scoped>\n",
       "    .dataframe tbody tr th:only-of-type {\n",
       "        vertical-align: middle;\n",
       "    }\n",
       "\n",
       "    .dataframe tbody tr th {\n",
       "        vertical-align: top;\n",
       "    }\n",
       "\n",
       "    .dataframe thead th {\n",
       "        text-align: right;\n",
       "    }\n",
       "</style>\n",
       "<table border=\"1\" class=\"dataframe\">\n",
       "  <thead>\n",
       "    <tr style=\"text-align: right;\">\n",
       "      <th></th>\n",
       "      <th>id</th>\n",
       "      <th>bathrooms</th>\n",
       "      <th>bedrooms</th>\n",
       "      <th>sqft</th>\n",
       "      <th>tax_value</th>\n",
       "    </tr>\n",
       "  </thead>\n",
       "  <tbody>\n",
       "    <tr>\n",
       "      <th>count</th>\n",
       "      <td>15982.000000</td>\n",
       "      <td>15982.000000</td>\n",
       "      <td>15982.000000</td>\n",
       "      <td>15982.000000</td>\n",
       "      <td>1.598200e+04</td>\n",
       "    </tr>\n",
       "    <tr>\n",
       "      <th>mean</th>\n",
       "      <td>42320.988737</td>\n",
       "      <td>2.214992</td>\n",
       "      <td>3.252597</td>\n",
       "      <td>1836.581905</td>\n",
       "      <td>4.633691e+05</td>\n",
       "    </tr>\n",
       "    <tr>\n",
       "      <th>std</th>\n",
       "      <td>6529.896396</td>\n",
       "      <td>1.027066</td>\n",
       "      <td>0.950211</td>\n",
       "      <td>985.314844</td>\n",
       "      <td>6.435119e+05</td>\n",
       "    </tr>\n",
       "    <tr>\n",
       "      <th>min</th>\n",
       "      <td>1772.000000</td>\n",
       "      <td>1.000000</td>\n",
       "      <td>1.000000</td>\n",
       "      <td>320.000000</td>\n",
       "      <td>7.584000e+03</td>\n",
       "    </tr>\n",
       "    <tr>\n",
       "      <th>25%</th>\n",
       "      <td>36972.250000</td>\n",
       "      <td>2.000000</td>\n",
       "      <td>3.000000</td>\n",
       "      <td>1233.000000</td>\n",
       "      <td>1.817542e+05</td>\n",
       "    </tr>\n",
       "    <tr>\n",
       "      <th>50%</th>\n",
       "      <td>41635.000000</td>\n",
       "      <td>2.000000</td>\n",
       "      <td>3.000000</td>\n",
       "      <td>1592.000000</td>\n",
       "      <td>3.202605e+05</td>\n",
       "    </tr>\n",
       "    <tr>\n",
       "      <th>75%</th>\n",
       "      <td>47990.750000</td>\n",
       "      <td>3.000000</td>\n",
       "      <td>4.000000</td>\n",
       "      <td>2161.750000</td>\n",
       "      <td>5.287630e+05</td>\n",
       "    </tr>\n",
       "    <tr>\n",
       "      <th>max</th>\n",
       "      <td>53503.000000</td>\n",
       "      <td>20.000000</td>\n",
       "      <td>25.000000</td>\n",
       "      <td>26345.000000</td>\n",
       "      <td>1.912982e+07</td>\n",
       "    </tr>\n",
       "  </tbody>\n",
       "</table>\n",
       "</div>"
      ],
      "text/plain": [
       "                 id     bathrooms      bedrooms          sqft     tax_value\n",
       "count  15982.000000  15982.000000  15982.000000  15982.000000  1.598200e+04\n",
       "mean   42320.988737      2.214992      3.252597   1836.581905  4.633691e+05\n",
       "std     6529.896396      1.027066      0.950211    985.314844  6.435119e+05\n",
       "min     1772.000000      1.000000      1.000000    320.000000  7.584000e+03\n",
       "25%    36972.250000      2.000000      3.000000   1233.000000  1.817542e+05\n",
       "50%    41635.000000      2.000000      3.000000   1592.000000  3.202605e+05\n",
       "75%    47990.750000      3.000000      4.000000   2161.750000  5.287630e+05\n",
       "max    53503.000000     20.000000     25.000000  26345.000000  1.912982e+07"
      ]
     },
     "execution_count": 10,
     "metadata": {},
     "output_type": "execute_result"
    }
   ],
   "source": [
    "df.describe()"
   ]
  },
  {
   "cell_type": "code",
   "execution_count": null,
   "metadata": {},
   "outputs": [],
   "source": []
  },
  {
   "cell_type": "code",
   "execution_count": null,
   "metadata": {},
   "outputs": [],
   "source": []
  },
  {
   "cell_type": "code",
   "execution_count": 11,
   "metadata": {},
   "outputs": [
    {
     "data": {
      "text/plain": [
       "transactiondate     object\n",
       "id                   int64\n",
       "bathrooms          float64\n",
       "bedrooms           float64\n",
       "sqft               float64\n",
       "tax_value          float64\n",
       "dtype: object"
      ]
     },
     "execution_count": 11,
     "metadata": {},
     "output_type": "execute_result"
    }
   ],
   "source": [
    "df.dtypes"
   ]
  },
  {
   "cell_type": "code",
   "execution_count": 12,
   "metadata": {
    "scrolled": true
   },
   "outputs": [
    {
     "data": {
      "text/plain": [
       "<matplotlib.axes._subplots.AxesSubplot at 0x1a1a45d0b8>"
      ]
     },
     "execution_count": 12,
     "metadata": {},
     "output_type": "execute_result"
    },
    {
     "data": {
      "image/png": "[encoded data removed]",
      "text/plain": [
       "<Figure size 432x288 with 1 Axes>"
      ]
     },
     "metadata": {
      "needs_background": "light"
     },
     "output_type": "display_data"
    }
   ],
   "source": [
    "sns.distplot(df['bedrooms'])"
   ]
  },
  {
   "cell_type": "code",
   "execution_count": 13,
   "metadata": {},
   "outputs": [
    {
     "data": {
      "text/plain": [
       "<matplotlib.axes._subplots.AxesSubplot at 0x1a1a8f1e80>"
      ]
     },
     "execution_count": 13,
     "metadata": {},
     "output_type": "execute_result"
    },
    {
     "data": {
      "image/png": "[encoded data removed]",
      "text/plain": [
       "<Figure size 432x288 with 1 Axes>"
      ]
     },
     "metadata": {
      "needs_background": "light"
     },
     "output_type": "display_data"
    }
   ],
   "source": [
    "sns.distplot(df['bathrooms'])"
   ]
  },
  {
   "cell_type": "code",
   "execution_count": 14,
   "metadata": {},
   "outputs": [
    {
     "data": {
      "text/plain": [
       "(0, 10000)"
      ]
     },
     "execution_count": 14,
     "metadata": {},
     "output_type": "execute_result"
    },
    {
     "data": {
      "image/png": "[encoded data removed]",
      "text/plain": [
       "<Figure size 432x288 with 1 Axes>"
      ]
     },
     "metadata": {
      "needs_background": "light"
     },
     "output_type": "display_data"
    }
   ],
   "source": [
    "sns.distplot(df['sqft'])\n",
    "plt.xlim(0,10000)"
   ]
  },
  {
   "cell_type": "code",
   "execution_count": 15,
   "metadata": {},
   "outputs": [
    {
     "data": {
      "text/plain": [
       "(0, 1000000)"
      ]
     },
     "execution_count": 15,
     "metadata": {},
     "output_type": "execute_result"
    },
    {
     "data": {
      "image/png": "[encoded data removed]",
      "text/plain": [
       "<Figure size 432x288 with 1 Axes>"
      ]
     },
     "metadata": {
      "needs_background": "light"
     },
     "output_type": "display_data"
    }
   ],
   "source": [
    "sns.distplot(df['tax_value'])\n",
    "plt.xlim(0,1_000_000)"
   ]
  },
  {
   "cell_type": "markdown",
   "metadata": {},
   "source": [
    "#### Prep and clean data"
   ]
  },
  {
   "cell_type": "code",
   "execution_count": 16,
   "metadata": {},
   "outputs": [],
   "source": [
    "#dropping id and transactiondate from table before scaling\n",
    "df.drop('id',axis=1,inplace=True)\n",
    "df.drop('transactiondate',axis=1,inplace=True)"
   ]
  },
  {
   "cell_type": "code",
   "execution_count": 17,
   "metadata": {},
   "outputs": [
    {
     "data": {
      "text/html": [
       "<div>\n",
       "<style scoped>\n",
       "    .dataframe tbody tr th:only-of-type {\n",
       "        vertical-align: middle;\n",
       "    }\n",
       "\n",
       "    .dataframe tbody tr th {\n",
       "        vertical-align: top;\n",
       "    }\n",
       "\n",
       "    .dataframe thead th {\n",
       "        text-align: right;\n",
       "    }\n",
       "</style>\n",
       "<table border=\"1\" class=\"dataframe\">\n",
       "  <thead>\n",
       "    <tr style=\"text-align: right;\">\n",
       "      <th></th>\n",
       "      <th>bathrooms</th>\n",
       "      <th>bedrooms</th>\n",
       "      <th>sqft</th>\n",
       "      <th>tax_value</th>\n",
       "    </tr>\n",
       "  </thead>\n",
       "  <tbody>\n",
       "    <tr>\n",
       "      <th>0</th>\n",
       "      <td>2.0</td>\n",
       "      <td>4.0</td>\n",
       "      <td>1604.0</td>\n",
       "      <td>498347.0</td>\n",
       "    </tr>\n",
       "  </tbody>\n",
       "</table>\n",
       "</div>"
      ],
      "text/plain": [
       "   bathrooms  bedrooms    sqft  tax_value\n",
       "0        2.0       4.0  1604.0   498347.0"
      ]
     },
     "execution_count": 17,
     "metadata": {},
     "output_type": "execute_result"
    }
   ],
   "source": [
    "df.head(1)"
   ]
  },
  {
   "cell_type": "markdown",
   "metadata": {},
   "source": [
    "#### Split and Scale"
   ]
  },
  {
   "cell_type": "code",
   "execution_count": 18,
   "metadata": {},
   "outputs": [],
   "source": [
    "train, test = split_scale.split_my_data(df,train_ratio=.8,seed=123)"
   ]
  },
  {
   "cell_type": "code",
   "execution_count": 19,
   "metadata": {},
   "outputs": [],
   "source": [
    "#scaler, train, test = split_scale.standard_scaler(train,test)"
   ]
  },
  {
   "cell_type": "code",
   "execution_count": 20,
   "metadata": {},
   "outputs": [],
   "source": [
    "X_train = train.drop(columns='tax_value')\n",
    "y_train = train[['tax_value']]\n",
    "X_test = test.drop(columns='tax_value')\n",
    "y_test = test[['tax_value']]"
   ]
  },
  {
   "cell_type": "code",
   "execution_count": 150,
   "metadata": {},
   "outputs": [
    {
     "data": {
      "text/html": [
       "<div>\n",
       "<style scoped>\n",
       "    .dataframe tbody tr th:only-of-type {\n",
       "        vertical-align: middle;\n",
       "    }\n",
       "\n",
       "    .dataframe tbody tr th {\n",
       "        vertical-align: top;\n",
       "    }\n",
       "\n",
       "    .dataframe thead th {\n",
       "        text-align: right;\n",
       "    }\n",
       "</style>\n",
       "<table border=\"1\" class=\"dataframe\">\n",
       "  <thead>\n",
       "    <tr style=\"text-align: right;\">\n",
       "      <th></th>\n",
       "      <th>bathrooms</th>\n",
       "      <th>bedrooms</th>\n",
       "      <th>sqft</th>\n",
       "      <th>tax_value</th>\n",
       "      <th>yhat</th>\n",
       "      <th>tax_mean</th>\n",
       "      <th>residual</th>\n",
       "      <th>residual2</th>\n",
       "    </tr>\n",
       "  </thead>\n",
       "  <tbody>\n",
       "    <tr>\n",
       "      <th>7491</th>\n",
       "      <td>2.0</td>\n",
       "      <td>3.0</td>\n",
       "      <td>1381.0</td>\n",
       "      <td>314307.0</td>\n",
       "      <td>279325.544463</td>\n",
       "      <td>463464.489402</td>\n",
       "      <td>-34981.455537</td>\n",
       "      <td>1.223702e+09</td>\n",
       "    </tr>\n",
       "    <tr>\n",
       "      <th>13860</th>\n",
       "      <td>1.0</td>\n",
       "      <td>3.0</td>\n",
       "      <td>961.0</td>\n",
       "      <td>202311.0</td>\n",
       "      <td>26915.490208</td>\n",
       "      <td>463464.489402</td>\n",
       "      <td>-175395.509792</td>\n",
       "      <td>3.076358e+10</td>\n",
       "    </tr>\n",
       "    <tr>\n",
       "      <th>15248</th>\n",
       "      <td>2.0</td>\n",
       "      <td>3.0</td>\n",
       "      <td>1685.0</td>\n",
       "      <td>477141.0</td>\n",
       "      <td>417908.092763</td>\n",
       "      <td>463464.489402</td>\n",
       "      <td>-59232.907237</td>\n",
       "      <td>3.508537e+09</td>\n",
       "    </tr>\n",
       "    <tr>\n",
       "      <th>7782</th>\n",
       "      <td>2.0</td>\n",
       "      <td>4.0</td>\n",
       "      <td>1415.0</td>\n",
       "      <td>58970.0</td>\n",
       "      <td>148650.138024</td>\n",
       "      <td>463464.489402</td>\n",
       "      <td>89680.138024</td>\n",
       "      <td>8.042527e+09</td>\n",
       "    </tr>\n",
       "    <tr>\n",
       "      <th>12504</th>\n",
       "      <td>3.0</td>\n",
       "      <td>3.0</td>\n",
       "      <td>2538.0</td>\n",
       "      <td>523441.0</td>\n",
       "      <td>867707.105618</td>\n",
       "      <td>463464.489402</td>\n",
       "      <td>344266.105618</td>\n",
       "      <td>1.185192e+11</td>\n",
       "    </tr>\n",
       "  </tbody>\n",
       "</table>\n",
       "</div>"
      ],
      "text/plain": [
       "       bathrooms  bedrooms    sqft  tax_value           yhat       tax_mean  \\\n",
       "7491         2.0       3.0  1381.0   314307.0  279325.544463  463464.489402   \n",
       "13860        1.0       3.0   961.0   202311.0   26915.490208  463464.489402   \n",
       "15248        2.0       3.0  1685.0   477141.0  417908.092763  463464.489402   \n",
       "7782         2.0       4.0  1415.0    58970.0  148650.138024  463464.489402   \n",
       "12504        3.0       3.0  2538.0   523441.0  867707.105618  463464.489402   \n",
       "\n",
       "            residual     residual2  \n",
       "7491   -34981.455537  1.223702e+09  \n",
       "13860 -175395.509792  3.076358e+10  \n",
       "15248  -59232.907237  3.508537e+09  \n",
       "7782    89680.138024  8.042527e+09  \n",
       "12504  344266.105618  1.185192e+11  "
      ]
     },
     "execution_count": 150,
     "metadata": {},
     "output_type": "execute_result"
    }
   ],
   "source": [
    "train.head()"
   ]
  },
  {
   "cell_type": "markdown",
   "metadata": {},
   "source": [
    "#### Data exploration"
   ]
  },
  {
   "cell_type": "code",
   "execution_count": 22,
   "metadata": {},
   "outputs": [
    {
     "data": {
      "image/png": "[encoded data removed]",
      "text/plain": [
       "<Figure size 576x432 with 2 Axes>"
      ]
     },
     "metadata": {
      "needs_background": "light"
     },
     "output_type": "display_data"
    }
   ],
   "source": [
    "plt.figure(figsize=(8,6))\n",
    "cor = train.corr()\n",
    "sns.heatmap(cor,annot=True,cmap=plt.cm.Reds)\n",
    "plt.show()"
   ]
  },
  {
   "cell_type": "code",
   "execution_count": 23,
   "metadata": {},
   "outputs": [],
   "source": [
    "import statsmodels.api as sm\n",
    "from statsmodels.formula.api import ols\n",
    "#OLS object to analyze features\n",
    "\n",
    "# ols_model = sm.OLS(y_train,X_train)\n",
    "# fit = ols_model.fit()\n",
    "# fit.summary()\n",
    "\n",
    "ols_model = ols('y_train ~ X_train',data=train).fit()\n",
    "train['yhat'] = ols_model.predict(y_train)"
   ]
  },
  {
   "cell_type": "code",
   "execution_count": null,
   "metadata": {},
   "outputs": [],
   "source": [
    "def ols_model():\n",
    "    ols crap\n",
    "    \n",
    "ols_model()"
   ]
  },
  {
   "cell_type": "code",
   "execution_count": 24,
   "metadata": {},
   "outputs": [
    {
     "data": {
      "text/plain": [
       "0.4447042156038722"
      ]
     },
     "execution_count": 24,
     "metadata": {},
     "output_type": "execute_result"
    }
   ],
   "source": [
    "#r2 of \n",
    "r2_lm1 = r2_score(y_train,train.yhat)\n",
    "r2_lm1"
   ]
  },
  {
   "cell_type": "code",
   "execution_count": 25,
   "metadata": {},
   "outputs": [
    {
     "data": {
      "text/html": [
       "<div>\n",
       "<style scoped>\n",
       "    .dataframe tbody tr th:only-of-type {\n",
       "        vertical-align: middle;\n",
       "    }\n",
       "\n",
       "    .dataframe tbody tr th {\n",
       "        vertical-align: top;\n",
       "    }\n",
       "\n",
       "    .dataframe thead th {\n",
       "        text-align: right;\n",
       "    }\n",
       "</style>\n",
       "<table border=\"1\" class=\"dataframe\">\n",
       "  <thead>\n",
       "    <tr style=\"text-align: right;\">\n",
       "      <th></th>\n",
       "      <th>bathrooms</th>\n",
       "      <th>bedrooms</th>\n",
       "      <th>sqft</th>\n",
       "      <th>tax_value</th>\n",
       "      <th>yhat</th>\n",
       "      <th>tax_mean</th>\n",
       "    </tr>\n",
       "  </thead>\n",
       "  <tbody>\n",
       "    <tr>\n",
       "      <th>7491</th>\n",
       "      <td>2.0</td>\n",
       "      <td>3.0</td>\n",
       "      <td>1381.0</td>\n",
       "      <td>314307.0</td>\n",
       "      <td>279325.544463</td>\n",
       "      <td>463464.489402</td>\n",
       "    </tr>\n",
       "    <tr>\n",
       "      <th>13860</th>\n",
       "      <td>1.0</td>\n",
       "      <td>3.0</td>\n",
       "      <td>961.0</td>\n",
       "      <td>202311.0</td>\n",
       "      <td>26915.490208</td>\n",
       "      <td>463464.489402</td>\n",
       "    </tr>\n",
       "    <tr>\n",
       "      <th>15248</th>\n",
       "      <td>2.0</td>\n",
       "      <td>3.0</td>\n",
       "      <td>1685.0</td>\n",
       "      <td>477141.0</td>\n",
       "      <td>417908.092763</td>\n",
       "      <td>463464.489402</td>\n",
       "    </tr>\n",
       "    <tr>\n",
       "      <th>7782</th>\n",
       "      <td>2.0</td>\n",
       "      <td>4.0</td>\n",
       "      <td>1415.0</td>\n",
       "      <td>58970.0</td>\n",
       "      <td>148650.138024</td>\n",
       "      <td>463464.489402</td>\n",
       "    </tr>\n",
       "    <tr>\n",
       "      <th>12504</th>\n",
       "      <td>3.0</td>\n",
       "      <td>3.0</td>\n",
       "      <td>2538.0</td>\n",
       "      <td>523441.0</td>\n",
       "      <td>867707.105618</td>\n",
       "      <td>463464.489402</td>\n",
       "    </tr>\n",
       "  </tbody>\n",
       "</table>\n",
       "</div>"
      ],
      "text/plain": [
       "       bathrooms  bedrooms    sqft  tax_value           yhat       tax_mean\n",
       "7491         2.0       3.0  1381.0   314307.0  279325.544463  463464.489402\n",
       "13860        1.0       3.0   961.0   202311.0   26915.490208  463464.489402\n",
       "15248        2.0       3.0  1685.0   477141.0  417908.092763  463464.489402\n",
       "7782         2.0       4.0  1415.0    58970.0  148650.138024  463464.489402\n",
       "12504        3.0       3.0  2538.0   523441.0  867707.105618  463464.489402"
      ]
     },
     "execution_count": 25,
     "metadata": {},
     "output_type": "execute_result"
    }
   ],
   "source": [
    "#creating baseline with mean of tax value\n",
    "train['tax_mean'] = train.tax_value.mean()\n",
    "train.head()"
   ]
  },
  {
   "cell_type": "code",
   "execution_count": 26,
   "metadata": {},
   "outputs": [],
   "source": [
    "#creating residual of tax value vs expected tax value\n",
    "train['residual'] = train['yhat'] - train['tax_value']\n",
    "train['residual2'] = train.residual **2"
   ]
  },
  {
   "cell_type": "code",
   "execution_count": 27,
   "metadata": {},
   "outputs": [
    {
     "data": {
      "text/html": [
       "<div>\n",
       "<style scoped>\n",
       "    .dataframe tbody tr th:only-of-type {\n",
       "        vertical-align: middle;\n",
       "    }\n",
       "\n",
       "    .dataframe tbody tr th {\n",
       "        vertical-align: top;\n",
       "    }\n",
       "\n",
       "    .dataframe thead th {\n",
       "        text-align: right;\n",
       "    }\n",
       "</style>\n",
       "<table border=\"1\" class=\"dataframe\">\n",
       "  <thead>\n",
       "    <tr style=\"text-align: right;\">\n",
       "      <th></th>\n",
       "      <th>bathrooms</th>\n",
       "      <th>bedrooms</th>\n",
       "      <th>sqft</th>\n",
       "      <th>tax_value</th>\n",
       "      <th>yhat</th>\n",
       "      <th>tax_mean</th>\n",
       "      <th>residual</th>\n",
       "      <th>residual2</th>\n",
       "    </tr>\n",
       "  </thead>\n",
       "  <tbody>\n",
       "    <tr>\n",
       "      <th>7491</th>\n",
       "      <td>2.0</td>\n",
       "      <td>3.0</td>\n",
       "      <td>1381.0</td>\n",
       "      <td>314307.0</td>\n",
       "      <td>279325.544463</td>\n",
       "      <td>463464.489402</td>\n",
       "      <td>-34981.455537</td>\n",
       "      <td>1.223702e+09</td>\n",
       "    </tr>\n",
       "  </tbody>\n",
       "</table>\n",
       "</div>"
      ],
      "text/plain": [
       "      bathrooms  bedrooms    sqft  tax_value           yhat       tax_mean  \\\n",
       "7491        2.0       3.0  1381.0   314307.0  279325.544463  463464.489402   \n",
       "\n",
       "          residual     residual2  \n",
       "7491 -34981.455537  1.223702e+09  "
      ]
     },
     "execution_count": 27,
     "metadata": {},
     "output_type": "execute_result"
    }
   ],
   "source": [
    "train.head(1)"
   ]
  },
  {
   "cell_type": "code",
   "execution_count": null,
   "metadata": {},
   "outputs": [],
   "source": []
  },
  {
   "cell_type": "markdown",
   "metadata": {},
   "source": [
    "#### Modeling & Evaluation MVP"
   ]
  },
  {
   "cell_type": "code",
   "execution_count": 28,
   "metadata": {},
   "outputs": [],
   "source": [
    "from sklearn.linear_model import LinearRegression\n",
    "#pick model type, Linear Regression for the MVP baseline\n",
    "lm1 = LinearRegression()\n"
   ]
  },
  {
   "cell_type": "code",
   "execution_count": 29,
   "metadata": {},
   "outputs": [
    {
     "name": "stdout",
     "output_type": "stream",
     "text": [
      "tax_value = b + m1 * bathrooms + m2 * bedrooms\n",
      "    y-intercept  (b): -33592.49\n",
      "    coefficient (m1): 60947.32\n",
      "    coefficient (m2): -146174.77\n"
     ]
    }
   ],
   "source": [
    "#fit and train model\n",
    "lm1.fit(X_train,y_train)\n",
    "lm1_y_intercept = lm1.intercept_\n",
    "lm1_coefficients = lm1.coef_\n",
    "\n",
    "print('{} = b + m1 * {} + m2 * {}'.format(y_train.columns[0], X_train.columns[0],X_train.columns[1]))\n",
    "print('    y-intercept  (b): %.2f' % lm1_y_intercept)\n",
    "print('    coefficient (m1): %.2f' % lm1_coefficients[0][0])\n",
    "print('    coefficient (m2): %.2f' % lm1_coefficients[0][1])"
   ]
  },
  {
   "cell_type": "code",
   "execution_count": 30,
   "metadata": {},
   "outputs": [],
   "source": [
    "#converting y_train to panda series\n",
    "y_train = y_train.tax_value"
   ]
  },
  {
   "cell_type": "code",
   "execution_count": 31,
   "metadata": {},
   "outputs": [
    {
     "data": {
      "text/plain": [
       "<matplotlib.axes._subplots.AxesSubplot at 0x1a1ad42278>"
      ]
     },
     "execution_count": 31,
     "metadata": {},
     "output_type": "execute_result"
    },
    {
     "data": {
      "image/png": "[encoded data removed]",
      "text/plain": [
       "<Figure size 432x288 with 1 Axes>"
      ]
     },
     "metadata": {
      "needs_background": "light"
     },
     "output_type": "display_data"
    }
   ],
   "source": [
    "#Plotting residuals\n",
    "sns.residplot(y_train,train.yhat)"
   ]
  },
  {
   "cell_type": "code",
   "execution_count": null,
   "metadata": {},
   "outputs": [],
   "source": []
  },
  {
   "cell_type": "code",
   "execution_count": null,
   "metadata": {},
   "outputs": [],
   "source": []
  },
  {
   "cell_type": "code",
   "execution_count": 32,
   "metadata": {},
   "outputs": [
    {
     "name": "stdout",
     "output_type": "stream",
     "text": [
      "2991275764154680.0 233967599855.66522 483701.97421104787 0.4447042156038722\n"
     ]
    }
   ],
   "source": [
    "#MSE, SSE, RMSE\n",
    "import math\n",
    "sse = sum(train.residual2)\n",
    "mse = sse/len(train)\n",
    "rmse = math.sqrt(mse)\n",
    "r2 = ols_model.rsquared\n",
    "print(sse,mse,rmse,r2)"
   ]
  },
  {
   "cell_type": "code",
   "execution_count": null,
   "metadata": {},
   "outputs": [],
   "source": []
  },
  {
   "cell_type": "code",
   "execution_count": 33,
   "metadata": {},
   "outputs": [
    {
     "data": {
      "text/plain": [
       "Text(0.5, 1, 'Predicted vs Actual Tax Value')"
      ]
     },
     "execution_count": 33,
     "metadata": {},
     "output_type": "execute_result"
    },
    {
     "data": {
      "image/png": "[encoded data removed]",
      "text/plain": [
       "<Figure size 455.5x360 with 1 Axes>"
      ]
     },
     "metadata": {
      "needs_background": "light"
     },
     "output_type": "display_data"
    }
   ],
   "source": [
    "pd.DataFrame({'actual': y_train,\n",
    "              'lm1': train.yhat,\n",
    "              'lm_baseline': train.tax_mean})\\\n",
    ".melt(id_vars=['actual'], var_name='model', value_name='prediction')\\\n",
    ".pipe((sns.relplot, 'data'), x='actual', y='prediction', hue='model')\n",
    "\n",
    "\n",
    "min, max = 0, 5_000_000\n",
    "plt.plot([min, max], [min, max], c='black', ls=':')\n",
    "plt.ylim(min, max)\n",
    "plt.xlim(min, max)\n",
    "plt.title('Predicted vs Actual Tax Value')"
   ]
  },
  {
   "cell_type": "code",
   "execution_count": 34,
   "metadata": {
    "scrolled": true
   },
   "outputs": [
    {
     "name": "stdout",
     "output_type": "stream",
     "text": [
      "linear model\n",
      "  mean squared error: 4.21e+11\n"
     ]
    }
   ],
   "source": [
    "mse_lm1 = mean_squared_error(y_train,train.tax_mean)\n",
    "print(\"linear model\\n  mean squared error: {:.3}\".format(mse_lm1)) \n",
    "\n",
    "\n",
    "#print('  {:.2%} of the variance in the house price can be explained by the num of bathrooms, num of bedrooms, and sq ft of house.'.format(r2_lm1))"
   ]
  },
  {
   "cell_type": "code",
   "execution_count": 234,
   "metadata": {},
   "outputs": [],
   "source": [
    "#start of 2nd model.\n",
    "\n",
    "df2 = wrangle.wrangle_zillow2()"
   ]
  },
  {
   "cell_type": "code",
   "execution_count": 235,
   "metadata": {},
   "outputs": [
    {
     "data": {
      "text/html": [
       "<div>\n",
       "<style scoped>\n",
       "    .dataframe tbody tr th:only-of-type {\n",
       "        vertical-align: middle;\n",
       "    }\n",
       "\n",
       "    .dataframe tbody tr th {\n",
       "        vertical-align: top;\n",
       "    }\n",
       "\n",
       "    .dataframe thead th {\n",
       "        text-align: right;\n",
       "    }\n",
       "</style>\n",
       "<table border=\"1\" class=\"dataframe\">\n",
       "  <thead>\n",
       "    <tr style=\"text-align: right;\">\n",
       "      <th></th>\n",
       "      <th>zipcode</th>\n",
       "      <th>fips</th>\n",
       "      <th>transactiondate</th>\n",
       "      <th>id</th>\n",
       "      <th>bathrooms</th>\n",
       "      <th>bedrooms</th>\n",
       "      <th>sqft</th>\n",
       "      <th>tax_value</th>\n",
       "    </tr>\n",
       "  </thead>\n",
       "  <tbody>\n",
       "    <tr>\n",
       "      <th>0</th>\n",
       "      <td>96415.0</td>\n",
       "      <td>6037.0</td>\n",
       "      <td>2017-06-30</td>\n",
       "      <td>1772</td>\n",
       "      <td>2.0</td>\n",
       "      <td>4.0</td>\n",
       "      <td>1604.0</td>\n",
       "      <td>498347.0</td>\n",
       "    </tr>\n",
       "    <tr>\n",
       "      <th>1</th>\n",
       "      <td>96452.0</td>\n",
       "      <td>6037.0</td>\n",
       "      <td>2017-06-01</td>\n",
       "      <td>2028</td>\n",
       "      <td>3.0</td>\n",
       "      <td>3.0</td>\n",
       "      <td>2384.0</td>\n",
       "      <td>549917.0</td>\n",
       "    </tr>\n",
       "    <tr>\n",
       "      <th>2</th>\n",
       "      <td>97319.0</td>\n",
       "      <td>6037.0</td>\n",
       "      <td>2017-06-01</td>\n",
       "      <td>3273</td>\n",
       "      <td>2.0</td>\n",
       "      <td>3.0</td>\n",
       "      <td>1574.0</td>\n",
       "      <td>235272.0</td>\n",
       "    </tr>\n",
       "    <tr>\n",
       "      <th>3</th>\n",
       "      <td>97329.0</td>\n",
       "      <td>6037.0</td>\n",
       "      <td>2017-06-29</td>\n",
       "      <td>3429</td>\n",
       "      <td>2.0</td>\n",
       "      <td>2.0</td>\n",
       "      <td>1619.0</td>\n",
       "      <td>340000.0</td>\n",
       "    </tr>\n",
       "    <tr>\n",
       "      <th>4</th>\n",
       "      <td>96086.0</td>\n",
       "      <td>6037.0</td>\n",
       "      <td>2017-06-27</td>\n",
       "      <td>4505</td>\n",
       "      <td>3.0</td>\n",
       "      <td>2.0</td>\n",
       "      <td>2408.0</td>\n",
       "      <td>2017254.0</td>\n",
       "    </tr>\n",
       "  </tbody>\n",
       "</table>\n",
       "</div>"
      ],
      "text/plain": [
       "   zipcode    fips transactiondate    id  bathrooms  bedrooms    sqft  \\\n",
       "0  96415.0  6037.0      2017-06-30  1772        2.0       4.0  1604.0   \n",
       "1  96452.0  6037.0      2017-06-01  2028        3.0       3.0  2384.0   \n",
       "2  97319.0  6037.0      2017-06-01  3273        2.0       3.0  1574.0   \n",
       "3  97329.0  6037.0      2017-06-29  3429        2.0       2.0  1619.0   \n",
       "4  96086.0  6037.0      2017-06-27  4505        3.0       2.0  2408.0   \n",
       "\n",
       "   tax_value  \n",
       "0   498347.0  \n",
       "1   549917.0  \n",
       "2   235272.0  \n",
       "3   340000.0  \n",
       "4  2017254.0  "
      ]
     },
     "execution_count": 235,
     "metadata": {},
     "output_type": "execute_result"
    }
   ],
   "source": [
    "df2.head()"
   ]
  },
  {
   "cell_type": "code",
   "execution_count": 212,
   "metadata": {},
   "outputs": [],
   "source": [
    "#df2.groupby('zipcode').count().sort_values(by='tax_value',ascending=False)"
   ]
  },
  {
   "cell_type": "code",
   "execution_count": 233,
   "metadata": {},
   "outputs": [
    {
     "data": {
      "text/html": [
       "<div>\n",
       "<style scoped>\n",
       "    .dataframe tbody tr th:only-of-type {\n",
       "        vertical-align: middle;\n",
       "    }\n",
       "\n",
       "    .dataframe tbody tr th {\n",
       "        vertical-align: top;\n",
       "    }\n",
       "\n",
       "    .dataframe thead th {\n",
       "        text-align: right;\n",
       "    }\n",
       "</style>\n",
       "<table border=\"1\" class=\"dataframe\">\n",
       "  <thead>\n",
       "    <tr style=\"text-align: right;\">\n",
       "      <th></th>\n",
       "      <th>sqft</th>\n",
       "      <th>tax_value</th>\n",
       "      <th>quantile</th>\n",
       "    </tr>\n",
       "  </thead>\n",
       "  <tbody>\n",
       "    <tr>\n",
       "      <th>2</th>\n",
       "      <td>1574.0</td>\n",
       "      <td>235272.0</td>\n",
       "      <td>1</td>\n",
       "    </tr>\n",
       "    <tr>\n",
       "      <th>6</th>\n",
       "      <td>1136.0</td>\n",
       "      <td>305481.0</td>\n",
       "      <td>1</td>\n",
       "    </tr>\n",
       "    <tr>\n",
       "      <th>8</th>\n",
       "      <td>914.0</td>\n",
       "      <td>260000.0</td>\n",
       "      <td>1</td>\n",
       "    </tr>\n",
       "    <tr>\n",
       "      <th>11</th>\n",
       "      <td>1017.0</td>\n",
       "      <td>275061.0</td>\n",
       "      <td>1</td>\n",
       "    </tr>\n",
       "    <tr>\n",
       "      <th>12</th>\n",
       "      <td>850.0</td>\n",
       "      <td>285180.0</td>\n",
       "      <td>1</td>\n",
       "    </tr>\n",
       "  </tbody>\n",
       "</table>\n",
       "</div>"
      ],
      "text/plain": [
       "      sqft  tax_value  quantile\n",
       "2   1574.0   235272.0         1\n",
       "6   1136.0   305481.0         1\n",
       "8    914.0   260000.0         1\n",
       "11  1017.0   275061.0         1\n",
       "12   850.0   285180.0         1"
      ]
     },
     "execution_count": 233,
     "metadata": {},
     "output_type": "execute_result"
    }
   ],
   "source": [
    "#testing just one county instead of entire dataset. 2nd test limiting by most frequent zip code 96\n",
    "\n",
    "#df2 = df2[df2.fips==6111]\n",
    "#df2 = df2[df2.zipcode==96193]\n",
    "len(df2)\n",
    "df2.head()"
   ]
  },
  {
   "cell_type": "code",
   "execution_count": 213,
   "metadata": {},
   "outputs": [
    {
     "data": {
      "text/html": [
       "<div>\n",
       "<style scoped>\n",
       "    .dataframe tbody tr th:only-of-type {\n",
       "        vertical-align: middle;\n",
       "    }\n",
       "\n",
       "    .dataframe tbody tr th {\n",
       "        vertical-align: top;\n",
       "    }\n",
       "\n",
       "    .dataframe thead th {\n",
       "        text-align: right;\n",
       "    }\n",
       "</style>\n",
       "<table border=\"1\" class=\"dataframe\">\n",
       "  <thead>\n",
       "    <tr style=\"text-align: right;\">\n",
       "      <th></th>\n",
       "      <th>zipcode</th>\n",
       "      <th>fips</th>\n",
       "      <th>transactiondate</th>\n",
       "      <th>id</th>\n",
       "      <th>bathrooms</th>\n",
       "      <th>bedrooms</th>\n",
       "      <th>sqft</th>\n",
       "      <th>tax_value</th>\n",
       "      <th>quantile</th>\n",
       "    </tr>\n",
       "  </thead>\n",
       "  <tbody>\n",
       "    <tr>\n",
       "      <th>0</th>\n",
       "      <td>96415.0</td>\n",
       "      <td>6037.0</td>\n",
       "      <td>2017-06-30</td>\n",
       "      <td>1772</td>\n",
       "      <td>2.0</td>\n",
       "      <td>4.0</td>\n",
       "      <td>1604.0</td>\n",
       "      <td>498347.0</td>\n",
       "      <td>2</td>\n",
       "    </tr>\n",
       "    <tr>\n",
       "      <th>1</th>\n",
       "      <td>96452.0</td>\n",
       "      <td>6037.0</td>\n",
       "      <td>2017-06-01</td>\n",
       "      <td>2028</td>\n",
       "      <td>3.0</td>\n",
       "      <td>3.0</td>\n",
       "      <td>2384.0</td>\n",
       "      <td>549917.0</td>\n",
       "      <td>3</td>\n",
       "    </tr>\n",
       "    <tr>\n",
       "      <th>2</th>\n",
       "      <td>97319.0</td>\n",
       "      <td>6037.0</td>\n",
       "      <td>2017-06-01</td>\n",
       "      <td>3273</td>\n",
       "      <td>2.0</td>\n",
       "      <td>3.0</td>\n",
       "      <td>1574.0</td>\n",
       "      <td>235272.0</td>\n",
       "      <td>1</td>\n",
       "    </tr>\n",
       "    <tr>\n",
       "      <th>3</th>\n",
       "      <td>97329.0</td>\n",
       "      <td>6037.0</td>\n",
       "      <td>2017-06-29</td>\n",
       "      <td>3429</td>\n",
       "      <td>2.0</td>\n",
       "      <td>2.0</td>\n",
       "      <td>1619.0</td>\n",
       "      <td>340000.0</td>\n",
       "      <td>2</td>\n",
       "    </tr>\n",
       "    <tr>\n",
       "      <th>4</th>\n",
       "      <td>96086.0</td>\n",
       "      <td>6037.0</td>\n",
       "      <td>2017-06-27</td>\n",
       "      <td>4505</td>\n",
       "      <td>3.0</td>\n",
       "      <td>2.0</td>\n",
       "      <td>2408.0</td>\n",
       "      <td>2017254.0</td>\n",
       "      <td>3</td>\n",
       "    </tr>\n",
       "  </tbody>\n",
       "</table>\n",
       "</div>"
      ],
      "text/plain": [
       "   zipcode    fips transactiondate    id  bathrooms  bedrooms    sqft  \\\n",
       "0  96415.0  6037.0      2017-06-30  1772        2.0       4.0  1604.0   \n",
       "1  96452.0  6037.0      2017-06-01  2028        3.0       3.0  2384.0   \n",
       "2  97319.0  6037.0      2017-06-01  3273        2.0       3.0  1574.0   \n",
       "3  97329.0  6037.0      2017-06-29  3429        2.0       2.0  1619.0   \n",
       "4  96086.0  6037.0      2017-06-27  4505        3.0       2.0  2408.0   \n",
       "\n",
       "   tax_value  quantile  \n",
       "0   498347.0         2  \n",
       "1   549917.0         3  \n",
       "2   235272.0         1  \n",
       "3   340000.0         2  \n",
       "4  2017254.0         3  "
      ]
     },
     "execution_count": 213,
     "metadata": {},
     "output_type": "execute_result"
    }
   ],
   "source": [
    "df2['quantile'] = pd.qcut(df2['tax_value'],4,labels=False)\n",
    "df2.head()\n",
    "#testing by tax_value quantile\n",
    "\n"
   ]
  },
  {
   "cell_type": "code",
   "execution_count": 264,
   "metadata": {},
   "outputs": [],
   "source": [
    "zip_codes = df2[['zipcode','tax_value']]\n",
    "zip_codes = pd.DataFrame(round(zip_codes.groupby('zipcode')['tax_value'].mean()))"
   ]
  },
  {
   "cell_type": "code",
   "execution_count": 265,
   "metadata": {},
   "outputs": [
    {
     "data": {
      "text/html": [
       "<div>\n",
       "<style scoped>\n",
       "    .dataframe tbody tr th:only-of-type {\n",
       "        vertical-align: middle;\n",
       "    }\n",
       "\n",
       "    .dataframe tbody tr th {\n",
       "        vertical-align: top;\n",
       "    }\n",
       "\n",
       "    .dataframe thead th {\n",
       "        text-align: right;\n",
       "    }\n",
       "</style>\n",
       "<table border=\"1\" class=\"dataframe\">\n",
       "  <thead>\n",
       "    <tr style=\"text-align: right;\">\n",
       "      <th></th>\n",
       "      <th>tax_value</th>\n",
       "    </tr>\n",
       "    <tr>\n",
       "      <th>zipcode</th>\n",
       "      <th></th>\n",
       "    </tr>\n",
       "  </thead>\n",
       "  <tbody>\n",
       "    <tr>\n",
       "      <th>95982.0</th>\n",
       "      <td>141217.0</td>\n",
       "    </tr>\n",
       "    <tr>\n",
       "      <th>95983.0</th>\n",
       "      <td>163153.0</td>\n",
       "    </tr>\n",
       "    <tr>\n",
       "      <th>95984.0</th>\n",
       "      <td>158700.0</td>\n",
       "    </tr>\n",
       "    <tr>\n",
       "      <th>95985.0</th>\n",
       "      <td>984668.0</td>\n",
       "    </tr>\n",
       "    <tr>\n",
       "      <th>95986.0</th>\n",
       "      <td>1227170.0</td>\n",
       "    </tr>\n",
       "  </tbody>\n",
       "</table>\n",
       "</div>"
      ],
      "text/plain": [
       "         tax_value\n",
       "zipcode           \n",
       "95982.0   141217.0\n",
       "95983.0   163153.0\n",
       "95984.0   158700.0\n",
       "95985.0   984668.0\n",
       "95986.0  1227170.0"
      ]
     },
     "execution_count": 265,
     "metadata": {},
     "output_type": "execute_result"
    }
   ],
   "source": [
    "zip_codes.head()\n",
    "#df2.groupby('zipcode').count().sort_values(by='tax_value',ascending=False)"
   ]
  },
  {
   "cell_type": "code",
   "execution_count": 215,
   "metadata": {},
   "outputs": [],
   "source": [
    "#dropping all columns except for square feet.\n",
    "df2.drop('id',axis=1,inplace=True)\n",
    "df2.drop('transactiondate',axis=1,inplace=True)\n",
    "df2.drop('fips',axis=1,inplace=True)\n",
    "df2.drop('bedrooms',axis=1,inplace=True)\n",
    "df2.drop('zipcode',axis=1,inplace=True)\n",
    "df2.drop('bathrooms',axis=1,inplace=True)"
   ]
  },
  {
   "cell_type": "code",
   "execution_count": 216,
   "metadata": {},
   "outputs": [],
   "source": [
    "train2, test2 = split_scale.split_my_data(df2,train_ratio=.8,seed=123)"
   ]
  },
  {
   "cell_type": "code",
   "execution_count": 217,
   "metadata": {},
   "outputs": [],
   "source": [
    "X_train2 = train2.drop(columns='tax_value')\n",
    "y_train2 = train2[['tax_value']]\n",
    "X_test2 = test2.drop(columns='tax_value')\n",
    "y_test2 = test2[['tax_value']]"
   ]
  },
  {
   "cell_type": "code",
   "execution_count": 218,
   "metadata": {},
   "outputs": [
    {
     "data": {
      "text/html": [
       "<div>\n",
       "<style scoped>\n",
       "    .dataframe tbody tr th:only-of-type {\n",
       "        vertical-align: middle;\n",
       "    }\n",
       "\n",
       "    .dataframe tbody tr th {\n",
       "        vertical-align: top;\n",
       "    }\n",
       "\n",
       "    .dataframe thead th {\n",
       "        text-align: right;\n",
       "    }\n",
       "</style>\n",
       "<table border=\"1\" class=\"dataframe\">\n",
       "  <thead>\n",
       "    <tr style=\"text-align: right;\">\n",
       "      <th></th>\n",
       "      <th>tax_value</th>\n",
       "    </tr>\n",
       "  </thead>\n",
       "  <tbody>\n",
       "    <tr>\n",
       "      <th>1434</th>\n",
       "      <td>261782.0</td>\n",
       "    </tr>\n",
       "    <tr>\n",
       "      <th>4353</th>\n",
       "      <td>304484.0</td>\n",
       "    </tr>\n",
       "    <tr>\n",
       "      <th>12241</th>\n",
       "      <td>275064.0</td>\n",
       "    </tr>\n",
       "    <tr>\n",
       "      <th>12279</th>\n",
       "      <td>222887.0</td>\n",
       "    </tr>\n",
       "    <tr>\n",
       "      <th>1065</th>\n",
       "      <td>296057.0</td>\n",
       "    </tr>\n",
       "  </tbody>\n",
       "</table>\n",
       "</div>"
      ],
      "text/plain": [
       "       tax_value\n",
       "1434    261782.0\n",
       "4353    304484.0\n",
       "12241   275064.0\n",
       "12279   222887.0\n",
       "1065    296057.0"
      ]
     },
     "execution_count": 218,
     "metadata": {},
     "output_type": "execute_result"
    }
   ],
   "source": [
    "y_train2.head()"
   ]
  },
  {
   "cell_type": "code",
   "execution_count": 219,
   "metadata": {},
   "outputs": [
    {
     "data": {
      "image/png": "[encoded data removed]",
      "text/plain": [
       "<Figure size 576x432 with 2 Axes>"
      ]
     },
     "metadata": {
      "needs_background": "light"
     },
     "output_type": "display_data"
    }
   ],
   "source": [
    "plt.figure(figsize=(8,6))\n",
    "cor2 = train2.corr()\n",
    "sns.heatmap(cor2,annot=True,cmap=plt.cm.Reds)\n",
    "plt.show()"
   ]
  },
  {
   "cell_type": "code",
   "execution_count": 220,
   "metadata": {},
   "outputs": [],
   "source": [
    "import statsmodels.api as sm\n",
    "from statsmodels.formula.api import ols\n",
    "#OLS object to analyze features\n",
    "\n",
    "# ols_model = sm.OLS(y_train,X_train)\n",
    "# fit = ols_model.fit()\n",
    "# fit.summary()\n",
    "\n",
    "ols_model2 = ols('y_train2 ~ X_train2',data=train2).fit()\n",
    "train2['yhat'] = ols_model2.predict(y_train2)"
   ]
  },
  {
   "cell_type": "code",
   "execution_count": 221,
   "metadata": {},
   "outputs": [
    {
     "data": {
      "text/plain": [
       "0.013171430430044428"
      ]
     },
     "execution_count": 221,
     "metadata": {},
     "output_type": "execute_result"
    }
   ],
   "source": [
    "r2_lm2 = r2_score(y_train2,train2.yhat)\n",
    "r2_lm2"
   ]
  },
  {
   "cell_type": "code",
   "execution_count": 144,
   "metadata": {},
   "outputs": [],
   "source": [
    "#creating residual of tax value vs expected tax value\n",
    "train2['residual'] = train2['yhat'] - train2['tax_value']\n",
    "train2['residual2'] = train2.residual **2"
   ]
  },
  {
   "cell_type": "code",
   "execution_count": 145,
   "metadata": {},
   "outputs": [],
   "source": [
    "from sklearn.linear_model import LinearRegression\n",
    "#pick model type, Linear Regression for the MVP baseline\n",
    "lm2 = LinearRegression()"
   ]
  },
  {
   "cell_type": "code",
   "execution_count": 146,
   "metadata": {},
   "outputs": [],
   "source": [
    "#fit and train model\n",
    "lm2.fit(X_train2,y_train2)\n",
    "lm2_y_intercept = lm2.intercept_\n",
    "lm2_coefficients = lm2.coef_"
   ]
  },
  {
   "cell_type": "code",
   "execution_count": 147,
   "metadata": {},
   "outputs": [
    {
     "data": {
      "text/plain": [
       "<matplotlib.axes._subplots.AxesSubplot at 0x1c1d7072e8>"
      ]
     },
     "execution_count": 147,
     "metadata": {},
     "output_type": "execute_result"
    },
    {
     "data": {
      "image/png": "[encoded data removed]",
      "text/plain": [
       "<Figure size 432x288 with 1 Axes>"
      ]
     },
     "metadata": {
      "needs_background": "light"
     },
     "output_type": "display_data"
    }
   ],
   "source": [
    "#Plotting residuals\n",
    "sns.residplot(y_train,train.yhat)"
   ]
  },
  {
   "cell_type": "code",
   "execution_count": 148,
   "metadata": {},
   "outputs": [],
   "source": [
    "#converting y_train to panda series\n",
    "y_train2 = y_train2.tax_value"
   ]
  },
  {
   "cell_type": "code",
   "execution_count": 149,
   "metadata": {},
   "outputs": [
    {
     "name": "stdout",
     "output_type": "stream",
     "text": [
      "32775304880458.098 52024293461.0446 228088.34573700736 0.5486414981152794\n"
     ]
    }
   ],
   "source": [
    "#MSE, SSE, RMSE for lm2\n",
    "import math\n",
    "sse2 = sum(train2.residual2)\n",
    "mse2 = sse2/len(train2)\n",
    "rmse2 = math.sqrt(mse2)\n",
    "r2_lm2 = ols_model2.rsquared\n",
    "print(sse2,mse2,rmse2,r2_lm2)"
   ]
  },
  {
   "cell_type": "code",
   "execution_count": 132,
   "metadata": {
    "scrolled": true
   },
   "outputs": [
    {
     "data": {
      "text/plain": [
       "Text(0.5, 1, 'Predicted vs Actual Tax Value')"
      ]
     },
     "execution_count": 132,
     "metadata": {},
     "output_type": "execute_result"
    },
    {
     "data": {
      "image/png": "[encoded data removed]",
      "text/plain": [
       "<Figure size 455.5x360 with 1 Axes>"
      ]
     },
     "metadata": {
      "needs_background": "light"
     },
     "output_type": "display_data"
    }
   ],
   "source": [
    "pd.DataFrame({'actual': y_train2,\n",
    "              'lm2': train2.yhat,\n",
    "              'lm_baseline': train.yhat})\\\n",
    ".melt(id_vars=['actual'], var_name='model', value_name='prediction')\\\n",
    ".pipe((sns.relplot, 'data'), x='actual', y='prediction', hue='model')\n",
    "\n",
    "\n",
    "min, max = 0, 5_000_000\n",
    "plt.plot([min, max], [min, max], c='black', ls=':')\n",
    "plt.ylim(min, max)\n",
    "plt.xlim(min, max)\n",
    "plt.title('Predicted vs Actual Tax Value')"
   ]
  },
  {
   "cell_type": "code",
   "execution_count": null,
   "metadata": {},
   "outputs": [],
   "source": [
    "#Using just sqft and splitting by county performs slightly better than bedrooms, bathrooms and sq ft for Orange County and Ventura County, worse for LA county"
   ]
  }
 ],
 "metadata": {
  "kernelspec": {
   "display_name": "Python 3",
   "language": "python",
   "name": "python3"
  },
  "language_info": {
   "codemirror_mode": {
    "name": "ipython",
    "version": 3
   },
   "file_extension": ".py",
   "mimetype": "text/x-python",
   "name": "python",
   "nbconvert_exporter": "python",
   "pygments_lexer": "ipython3",
   "version": "3.7.3"
  }
 },
 "nbformat": 4,
 "nbformat_minor": 2
}
